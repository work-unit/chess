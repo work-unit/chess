{
 "cells": [
  {
   "cell_type": "code",
   "execution_count": 2,
   "id": "100bb6a2",
   "metadata": {},
   "outputs": [],
   "source": [
    "import numpy as np\n",
    "def get_encoded_board(x):\n",
    "    num_squares = range(64)\n",
    "\n",
    "    x = str(x).replace(' ','').replace('\\n','')\n",
    "    #Black Player Feature Vectors\n",
    "    b_rook  = [1 if x[i]=='r' else 0 for i in num_squares]\n",
    "    b_night = [1 if x[i]=='n' else 0 for i in num_squares]\n",
    "    b_bish  = [1 if x[i]=='b' else 0 for i in num_squares]\n",
    "    b_queen = [1 if x[i]=='q' else 0 for i in num_squares]\n",
    "    b_king  = [1 if x[i]=='k' else 0 for i in num_squares]\n",
    "    b_pawn  = [1 if x[i]=='p' else 0 for i in num_squares]\n",
    "\n",
    "    #White Player Feature Vectors\n",
    "    w_rook  = [1 if x[i]=='R' else 0 for i in num_squares]\n",
    "    w_night = [1 if x[i]=='N' else 0 for i in num_squares]\n",
    "    w_bish  = [1 if x[i]=='B' else 0 for i in num_squares]\n",
    "    w_queen = [1 if x[i]=='Q' else 0 for i in num_squares]\n",
    "    w_king  = [1 if x[i]=='K' else 0 for i in num_squares]\n",
    "    w_pawn  = [1 if x[i]=='P' else 0 for i in num_squares]\n",
    "\n",
    "    feature_list = np.array(b_rook+b_night+b_bish+b_queen\n",
    "                +b_king+b_pawn+w_rook+w_night+w_bish\n",
    "                +w_queen+w_king+w_pawn).reshape([1,768])\n",
    "    return(feature_list)"
   ]
  },
  {
   "cell_type": "code",
   "execution_count": null,
   "id": "a6f5efa3",
   "metadata": {},
   "outputs": [],
   "source": []
  }
 ],
 "metadata": {
  "kernelspec": {
   "display_name": "Python 3",
   "language": "python",
   "name": "python3"
  },
  "language_info": {
   "codemirror_mode": {
    "name": "ipython",
    "version": 3
   },
   "file_extension": ".py",
   "mimetype": "text/x-python",
   "name": "python",
   "nbconvert_exporter": "python",
   "pygments_lexer": "ipython3",
   "version": "3.8.5"
  }
 },
 "nbformat": 4,
 "nbformat_minor": 5
}
