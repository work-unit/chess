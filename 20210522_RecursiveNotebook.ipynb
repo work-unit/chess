{
 "cells": [
  {
   "cell_type": "code",
   "execution_count": 3,
   "metadata": {},
   "outputs": [
    {
     "name": "stdout",
     "output_type": "stream",
     "text": [
      "Running Main\n",
      "dict_keys([0, 1, 2])\n",
      "leaves length: 3\n",
      "Total Time Run: 0.2835550308227539\n"
     ]
    }
   ],
   "source": [
    "import chess\n",
    "import time\n",
    "\n",
    "\n",
    "class Tree:\n",
    "    def __init__(self, board):\n",
    "        self.board = board\n",
    "        self.children = []\n",
    "\n",
    "    def addNode(self, obj):\n",
    "        self.children.append(obj)\n",
    "\n",
    "\n",
    "class Node:\n",
    "    def __init__(self, parent, board):\n",
    "        self.parent = parent\n",
    "        self.board = board\n",
    "        self.children = []\n",
    "\n",
    "    def addNode(self, obj):\n",
    "        self.children.append(obj)\n",
    "\n",
    "\n",
    "def build_tree(parent, level):\n",
    "    if level == MAX_LEVEL:\n",
    "        return\n",
    "\n",
    "    if len(list(parent.board.legal_moves)) == 0:\n",
    "        #probability = jonah_model(board_copy)\n",
    "        probability = 0.5 # placeholder until I integrate with Jonah\n",
    "        leaves[level].append(probability)\n",
    "\n",
    "    # Build up children nodes\n",
    "    for move in parent.board.legal_moves:\n",
    "        board_copy = parent.board.copy()\n",
    "        board_copy.push(move)\n",
    "        parent.addNode(Node(parent, board_copy))\n",
    "        if board.is_checkmate():\n",
    "            probability = 1\n",
    "        else:\n",
    "            #probability = jonah_model(board_copy)\n",
    "            probability = 0.5 # placeholder until I integrate with Jonah\n",
    "        tree_dict[level].append(probability)  # This is Jonah's prediction, I put 0.5 as a place holder\n",
    "        if level == MAX_LEVEL - 1:\n",
    "            leaves[level].append(probability)\n",
    "\n",
    "    for node in parent.children:\n",
    "        build_tree(node, level+1)\n",
    "\n",
    "\n",
    "if __name__ == '__main__':\n",
    "    print(\"Running Main\")\n",
    "    start_time = time.time()\n",
    "    MAX_LEVEL = 3  # Up to 4 is 10 seconds\n",
    "    tree_dict = {k: [] for k in range(MAX_LEVEL)}\n",
    "    leaves = {k: [] for k in range(MAX_LEVEL)}\n",
    "    board = chess.Board()\n",
    "    root = Tree(board)\n",
    "    build_tree(root, 0)\n",
    "    print(tree_dict.keys())\n",
    "    #print('leaves:', leaves)\n",
    "    print('leaves length:', len(leaves))\n",
    "    end_time = time.time()\n",
    "    print('Total Time Run:', end_time - start_time)\n"
   ]
  },
  {
   "cell_type": "code",
   "execution_count": null,
   "metadata": {},
   "outputs": [],
   "source": []
  }
 ],
 "metadata": {
  "kernelspec": {
   "display_name": "Python 3",
   "language": "python",
   "name": "python3"
  },
  "language_info": {
   "codemirror_mode": {
    "name": "ipython",
    "version": 3
   },
   "file_extension": ".py",
   "mimetype": "text/x-python",
   "name": "python",
   "nbconvert_exporter": "python",
   "pygments_lexer": "ipython3",
   "version": "3.8.5"
  }
 },
 "nbformat": 4,
 "nbformat_minor": 4
}
