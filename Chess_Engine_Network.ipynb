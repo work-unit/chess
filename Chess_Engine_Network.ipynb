{
 "cells": [
  {
   "cell_type": "code",
   "execution_count": null,
   "metadata": {},
   "outputs": [],
   "source": [
    "# !pip install chess"
   ]
  },
  {
   "cell_type": "code",
   "execution_count": 1,
   "metadata": {
    "colab": {
     "base_uri": "https://localhost:8080/"
    },
    "id": "d1FIxLY--BtT",
    "outputId": "34763dd2-ae69-4891-ea4b-048795092911"
   },
   "outputs": [],
   "source": [
    "import numpy as np\n",
    "import pandas as pd\n",
    "import chess\n",
    "import chess.pgn\n",
    "from ChessFunctions import get_encoded_board\n",
    "from tqdm import tqdm\n",
    "import dask\n",
    "import dask.dataframe as dd\n",
    "import dask.array as da\n",
    "from dask import delayed"
   ]
  },
  {
   "cell_type": "code",
   "execution_count": 2,
   "metadata": {},
   "outputs": [
    {
     "data": {
      "text/html": [
       "<table style=\"border: 2px solid white;\">\n",
       "<tr>\n",
       "<td style=\"vertical-align: top; border: 0px solid white\">\n",
       "<h3 style=\"text-align: left;\">Client</h3>\n",
       "<ul style=\"text-align: left; list-style: none; margin: 0; padding: 0;\">\n",
       "  <li><b>Scheduler: </b>tcp://127.0.0.1:55226</li>\n",
       "  <li><b>Dashboard: </b><a href='http://127.0.0.1:8787/status' target='_blank'>http://127.0.0.1:8787/status</a></li>\n",
       "</ul>\n",
       "</td>\n",
       "<td style=\"vertical-align: top; border: 0px solid white\">\n",
       "<h3 style=\"text-align: left;\">Cluster</h3>\n",
       "<ul style=\"text-align: left; list-style:none; margin: 0; padding: 0;\">\n",
       "  <li><b>Workers: </b>4</li>\n",
       "  <li><b>Cores: </b>8</li>\n",
       "  <li><b>Memory: </b>17.18 GB</li>\n",
       "</ul>\n",
       "</td>\n",
       "</tr>\n",
       "</table>"
      ],
      "text/plain": [
       "<Client: 'tcp://127.0.0.1:55226' processes=4 threads=8, memory=17.18 GB>"
      ]
     },
     "execution_count": 2,
     "metadata": {},
     "output_type": "execute_result"
    }
   ],
   "source": [
    "from dask.distributed import Client, progress\n",
    "client = Client()\n",
    "client"
   ]
  },
  {
   "cell_type": "code",
   "execution_count": 3,
   "metadata": {},
   "outputs": [],
   "source": [
    "# client.close()"
   ]
  },
  {
   "cell_type": "code",
   "execution_count": 4,
   "metadata": {
    "id": "LLHjm8dR-EMC"
   },
   "outputs": [],
   "source": [
    "f = open('lichess_elite_2020-06.pgn')"
   ]
  },
  {
   "cell_type": "code",
   "execution_count": 5,
   "metadata": {
    "id": "yaGs0GSdACHl"
   },
   "outputs": [
    {
     "name": "stderr",
     "output_type": "stream",
     "text": [
      "100%|██████████| 2500/2500 [00:06<00:00, 392.00it/s]"
     ]
    },
    {
     "name": "stdout",
     "output_type": "stream",
     "text": [
      "CPU times: user 6.21 s, sys: 139 ms, total: 6.34 s\n",
      "Wall time: 6.38 s\n"
     ]
    },
    {
     "name": "stderr",
     "output_type": "stream",
     "text": [
      "\n"
     ]
    }
   ],
   "source": [
    "%%time \n",
    "my_list = []\n",
    "Y_labels = []\n",
    "for game in tqdm(range(2500)):\n",
    "# while True:\n",
    "    game = chess.pgn.read_game(f)\n",
    "    if game is None:\n",
    "        break  # end of file\n",
    "    my_list.append(game)"
   ]
  },
  {
   "cell_type": "code",
   "execution_count": 6,
   "metadata": {},
   "outputs": [],
   "source": [
    "def flatten_board(x):\n",
    "    return(str(x).replace(' ','').replace('\\n',''))"
   ]
  },
  {
   "cell_type": "code",
   "execution_count": 7,
   "metadata": {
    "id": "FWduHuZFLtKB"
   },
   "outputs": [],
   "source": [
    "def get_encoded_board(x):\n",
    "    '''Must pass a flattened board'''\n",
    "    num_squares = range(64)\n",
    "    \n",
    "    #Black Player Feature Vectors\n",
    "    b_rook  = [1 if x[i]=='r' else 0 for i in num_squares]\n",
    "    b_night = [1 if x[i]=='n' else 0 for i in num_squares]\n",
    "    b_bish  = [1 if x[i]=='b' else 0 for i in num_squares]\n",
    "    b_queen = [1 if x[i]=='q' else 0 for i in num_squares]\n",
    "    b_king  = [1 if x[i]=='k' else 0 for i in num_squares]\n",
    "    b_pawn  = [1 if x[i]=='p' else 0 for i in num_squares]\n",
    "    b_value = [(sum(b_rook)*5 + sum(b_night)*3 + sum(b_bish)*3\n",
    "           + sum(b_queen)*9 + sum(b_pawn)*1\n",
    "          )]\n",
    "    \n",
    "    #White Player Feature Vectors\n",
    "    w_rook  = [1 if x[i]=='R' else 0 for i in num_squares]\n",
    "    w_night = [1 if x[i]=='N' else 0 for i in num_squares]\n",
    "    w_bish  = [1 if x[i]=='B' else 0 for i in num_squares]\n",
    "    w_queen = [1 if x[i]=='Q' else 0 for i in num_squares]\n",
    "    w_king  = [1 if x[i]=='K' else 0 for i in num_squares]\n",
    "    w_pawn  = [1 if x[i]=='P' else 0 for i in num_squares]\n",
    "    w_value = [(sum(w_rook)*5 + sum(w_night)*3 + sum(w_bish)*3\n",
    "           + sum(w_queen)*9 + sum(w_pawn)*1\n",
    "          )]\n",
    "\n",
    "    feature_list = (b_rook+b_night+b_bish+b_queen\n",
    "                +b_king+b_pawn+w_rook+w_night+w_bish\n",
    "                +w_queen+w_king+w_pawn+b_value+w_value)\n",
    "    \n",
    "#     feature_list = dd.from_array(np.append(feature_list,[w_value,b_value]))\n",
    "    \n",
    "#     feature_list.extend[w_value,b_value]\n",
    "\n",
    "\n",
    "#     feature_list = (b_rook+b_night+b_bish+b_queen\n",
    "#                 +b_king+b_pawn+w_rook+w_night+w_bish\n",
    "#                 +w_queen+w_king+w_pawn)\n",
    "    \n",
    "    return(feature_list)"
   ]
  },
  {
   "cell_type": "code",
   "execution_count": 8,
   "metadata": {},
   "outputs": [],
   "source": [
    "# def collect_game_states(games):\n",
    "#     allgame_df = pd.DataFrame()\n",
    "#     for game in games:\n",
    "#         board = game.board() \n",
    "#         board_state = get_encoded_board(board)\n",
    "#         for move in game.mainline_moves():\n",
    "#             board.push(move)\n",
    "#             board_state = np.row_stack((board_state,get_encoded_board(board)))\n",
    "#         df = pd.DataFrame(board_state)\n",
    "#         df['gameid'] = game.headers[\"LichessURL\"]\n",
    "#         allgame_df = pd.concat([allgame_df,df])\n",
    "#     ddf = dd.from_pandas(allgame_df,npartitions=1)\n",
    "#     return ddf"
   ]
  },
  {
   "cell_type": "code",
   "execution_count": 29,
   "metadata": {},
   "outputs": [
    {
     "name": "stderr",
     "output_type": "stream",
     "text": [
      "100%|██████████| 2500/2500 [00:17<00:00, 139.18it/s]"
     ]
    },
    {
     "name": "stdout",
     "output_type": "stream",
     "text": [
      "CPU times: user 17.4 s, sys: 806 ms, total: 18.2 s\n",
      "Wall time: 18 s\n"
     ]
    },
    {
     "name": "stderr",
     "output_type": "stream",
     "text": [
      "\n"
     ]
    }
   ],
   "source": [
    "%%time\n",
    "allgame_df = pd.DataFrame()\n",
    "for game in tqdm(my_list):\n",
    "    if game.headers['Termination']=='Normal':\n",
    "        board = game.board() \n",
    "        board_state = [flatten_board(board)]\n",
    "        for move in game.mainline_moves():\n",
    "            board.push(move)\n",
    "            board_state = np.row_stack((board_state,flatten_board(board)))\n",
    "        df = pd.DataFrame(board_state)\n",
    "        df['gameid'] = game.headers[\"LichessURL\"]\n",
    "        df['result'] = (np.where\n",
    "                        (game.headers[\"Result\"]==\"1-0\",'w',\n",
    "                         np.where(game.headers[\"Result\"]==\"0-1\",'l','d')\n",
    "                        )\n",
    "                       )\n",
    "        df = df[3:]\n",
    "        allgame_df = pd.concat([allgame_df,df])\n",
    "    else:\n",
    "        next"
   ]
  },
  {
   "cell_type": "code",
   "execution_count": 30,
   "metadata": {},
   "outputs": [
    {
     "data": {
      "text/html": [
       "<div>\n",
       "<style scoped>\n",
       "    .dataframe tbody tr th:only-of-type {\n",
       "        vertical-align: middle;\n",
       "    }\n",
       "\n",
       "    .dataframe tbody tr th {\n",
       "        vertical-align: top;\n",
       "    }\n",
       "\n",
       "    .dataframe thead th {\n",
       "        text-align: right;\n",
       "    }\n",
       "</style>\n",
       "<table border=\"1\" class=\"dataframe\">\n",
       "  <thead>\n",
       "    <tr style=\"text-align: right;\">\n",
       "      <th></th>\n",
       "      <th>0</th>\n",
       "      <th>gameid</th>\n",
       "      <th>result</th>\n",
       "    </tr>\n",
       "  </thead>\n",
       "  <tbody>\n",
       "    <tr>\n",
       "      <th>6</th>\n",
       "      <td>rnbqk.nrppp..ppp....p......p.....b.PP.....N......</td>\n",
       "      <td>https://lichess.org/kuUOsOML</td>\n",
       "      <td>d</td>\n",
       "    </tr>\n",
       "    <tr>\n",
       "      <th>7</th>\n",
       "      <td>rnbqk.nrppp..ppp....p......pP....b.P......N......</td>\n",
       "      <td>https://lichess.org/kuUOsOML</td>\n",
       "      <td>d</td>\n",
       "    </tr>\n",
       "    <tr>\n",
       "      <th>8</th>\n",
       "      <td>rnbqk..rppp.nppp....p......pP....b.P......N......</td>\n",
       "      <td>https://lichess.org/kuUOsOML</td>\n",
       "      <td>d</td>\n",
       "    </tr>\n",
       "    <tr>\n",
       "      <th>9</th>\n",
       "      <td>rnbqk..rppp.nppp....p......pP....b.P....P.N......</td>\n",
       "      <td>https://lichess.org/kuUOsOML</td>\n",
       "      <td>d</td>\n",
       "    </tr>\n",
       "    <tr>\n",
       "      <th>10</th>\n",
       "      <td>rnbqk..rppp.nppp....p......pP......P....P.b......</td>\n",
       "      <td>https://lichess.org/kuUOsOML</td>\n",
       "      <td>d</td>\n",
       "    </tr>\n",
       "    <tr>\n",
       "      <th>11</th>\n",
       "      <td>rnbqk..rppp.nppp....p......pP......P....P.P......</td>\n",
       "      <td>https://lichess.org/kuUOsOML</td>\n",
       "      <td>d</td>\n",
       "    </tr>\n",
       "    <tr>\n",
       "      <th>12</th>\n",
       "      <td>rnbqk..rpp..nppp....p.....ppP......P....P.P......</td>\n",
       "      <td>https://lichess.org/kuUOsOML</td>\n",
       "      <td>d</td>\n",
       "    </tr>\n",
       "  </tbody>\n",
       "</table>\n",
       "</div>"
      ],
      "text/plain": [
       "                                                    0  \\\n",
       "6   rnbqk.nrppp..ppp....p......p.....b.PP.....N......   \n",
       "7   rnbqk.nrppp..ppp....p......pP....b.P......N......   \n",
       "8   rnbqk..rppp.nppp....p......pP....b.P......N......   \n",
       "9   rnbqk..rppp.nppp....p......pP....b.P....P.N......   \n",
       "10  rnbqk..rppp.nppp....p......pP......P....P.b......   \n",
       "11  rnbqk..rppp.nppp....p......pP......P....P.P......   \n",
       "12  rnbqk..rpp..nppp....p.....ppP......P....P.P......   \n",
       "\n",
       "                          gameid result  \n",
       "6   https://lichess.org/kuUOsOML      d  \n",
       "7   https://lichess.org/kuUOsOML      d  \n",
       "8   https://lichess.org/kuUOsOML      d  \n",
       "9   https://lichess.org/kuUOsOML      d  \n",
       "10  https://lichess.org/kuUOsOML      d  \n",
       "11  https://lichess.org/kuUOsOML      d  \n",
       "12  https://lichess.org/kuUOsOML      d  "
      ]
     },
     "execution_count": 30,
     "metadata": {},
     "output_type": "execute_result"
    }
   ],
   "source": [
    "allgame_df[3:10]"
   ]
  },
  {
   "cell_type": "code",
   "execution_count": 31,
   "metadata": {},
   "outputs": [],
   "source": [
    "# def func(df):\n",
    "#     return df['encoded'].apply(pd.Series, 1)\n",
    "# df.map_partitions(func)"
   ]
  },
  {
   "cell_type": "code",
   "execution_count": 32,
   "metadata": {},
   "outputs": [],
   "source": [
    "ddf = dd.from_pandas(allgame_df,npartitions=100000)\n",
    "# del allgame_df"
   ]
  },
  {
   "cell_type": "code",
   "execution_count": 33,
   "metadata": {},
   "outputs": [],
   "source": [
    "ddf = client.persist(ddf)\n",
    "# ddf.compute()\n",
    "# ddf.compute().sort_values(['gameid']).head()"
   ]
  },
  {
   "cell_type": "code",
   "execution_count": 34,
   "metadata": {},
   "outputs": [],
   "source": [
    "ddf['features'] = ddf[0].apply(get_encoded_board,meta=('I'))"
   ]
  },
  {
   "cell_type": "code",
   "execution_count": 35,
   "metadata": {},
   "outputs": [],
   "source": [
    "def func(df):\n",
    "    return df.features.apply(pd.Series, 1).stack().reset_index(level=1, drop=True)"
   ]
  },
  {
   "cell_type": "code",
   "execution_count": 36,
   "metadata": {},
   "outputs": [],
   "source": [
    "# da_X = da.array(ddf.map_partitions(func))\n",
    "# da_X.compute().shape"
   ]
  },
  {
   "cell_type": "code",
   "execution_count": 37,
   "metadata": {},
   "outputs": [
    {
     "data": {
      "text/plain": [
       "(138986, 770)"
      ]
     },
     "execution_count": 37,
     "metadata": {},
     "output_type": "execute_result"
    }
   ],
   "source": [
    "feature_array = np.array(ddf.map_partitions(func).compute()).reshape(-1,770)\n",
    "feature_array.shape"
   ]
  },
  {
   "cell_type": "code",
   "execution_count": null,
   "metadata": {},
   "outputs": [],
   "source": []
  },
  {
   "cell_type": "code",
   "execution_count": 38,
   "metadata": {},
   "outputs": [],
   "source": [
    "# ddf['encoded']=ddf[0].apply(get_encoded_board,meta=('I'))\n",
    "# encoded_array = da.concatenate(ddf[0].apply(get_encoded_board,meta=('I')))\n",
    "# ddf_X = dd.DataFrame(encoded_array, name='test',divisions=4,meta=(\"DF\")) \n",
    "# test = ddf.map_partitions(func)\n",
    "# ddf = ddf.map_partitions(lambda df: df['encoded'].apply(pd.Series,1))"
   ]
  },
  {
   "cell_type": "code",
   "execution_count": 39,
   "metadata": {},
   "outputs": [],
   "source": [
    "# %%time\n",
    "# pandas_playground = pd.DataFrame(ddf.compute())\n",
    "# test = pandas_playground['encoded'].apply(pd.Series)\n",
    "# test"
   ]
  },
  {
   "cell_type": "code",
   "execution_count": 40,
   "metadata": {
    "id": "hlDcWihtClp7"
   },
   "outputs": [],
   "source": [
    "# %%time\n",
    "# game_state_dictionary = {}\n",
    "# Y_labels = []\n",
    "# i = 0\n",
    "# for game in tqdm(my_list):\n",
    "#     board = game.board()\n",
    "#     board_state = get_encoded_board(board)\n",
    "#     # Win\n",
    "#     if game.headers['Result'] == \"1-0\":\n",
    "#         Y_labels.append(\"w\")\n",
    "#     # Lose\n",
    "#     elif game.headers['Result'] == \"0-1\":\n",
    "#         Y_labels.append('l')\n",
    "#     # Draw\n",
    "#     else:\n",
    "#         Y_labels.append('d')\n",
    "#     for move in game.mainline_moves():\n",
    "#         board.push(move)\n",
    "#         board_state = np.row_stack((board_state,get_encoded_board(board)))\n",
    "#         # Win\n",
    "#         if game.headers['Result'] == \"1-0\":\n",
    "#             Y_labels.append('w')\n",
    "#         # Lose\n",
    "#         elif game.headers['Result'] == \"0-1\":\n",
    "#             Y_labels.append('l')\n",
    "#         # Draw\n",
    "#         else:\n",
    "#             Y_labels.append('d')\n",
    "#     game_state_dictionary[i] = board_state\n",
    "#     i = i+1"
   ]
  },
  {
   "cell_type": "code",
   "execution_count": 41,
   "metadata": {},
   "outputs": [],
   "source": [
    "# game_state_dictionary[999]"
   ]
  },
  {
   "cell_type": "code",
   "execution_count": 42,
   "metadata": {
    "colab": {
     "base_uri": "https://localhost:8080/"
    },
    "id": "sXh6kd7Jqcan",
    "outputId": "aea2118e-92a9-459a-e722-0c5c0264dba4"
   },
   "outputs": [],
   "source": [
    "# len(Y_labels)"
   ]
  },
  {
   "cell_type": "code",
   "execution_count": 43,
   "metadata": {
    "colab": {
     "base_uri": "https://localhost:8080/"
    },
    "id": "kjlx--BO1PAH",
    "outputId": "86db3273-dc80-4f85-d014-935fb0583547"
   },
   "outputs": [
    {
     "name": "stdout",
     "output_type": "stream",
     "text": [
      "X: (138986, 770)\n",
      "Y: (138986,)\n"
     ]
    }
   ],
   "source": [
    "# X = np.row_stack([game_state_dictionary[x] for x in sorted(game_state_dictionary)])\n",
    "# X.shape\n",
    "\n",
    "X = feature_array\n",
    "Y_labels = allgame_df['result']\n",
    "print(\"X: \" + str(X.shape))\n",
    "print(\"Y: \" + str(Y_labels.shape))"
   ]
  },
  {
   "cell_type": "code",
   "execution_count": 44,
   "metadata": {
    "colab": {
     "base_uri": "https://localhost:8080/"
    },
    "id": "2ogjRrII6GmE",
    "outputId": "c992a25c-0a6a-4a13-e5f2-2ec35bf896c6"
   },
   "outputs": [
    {
     "name": "stdout",
     "output_type": "stream",
     "text": [
      "CPU times: user 276 ms, sys: 270 ms, total: 546 ms\n",
      "Wall time: 542 ms\n"
     ]
    }
   ],
   "source": [
    "%%time\n",
    "from sklearn.neural_network import MLPClassifier\n",
    "from sklearn.model_selection import train_test_split,GridSearchCV\n",
    "X_train, X_test, y_train, y_test = train_test_split(\n",
    "    X, Y_labels, stratify=Y_labels, train_size = 0.9\n",
    "    ,random_state=1\n",
    ")"
   ]
  },
  {
   "cell_type": "code",
   "execution_count": 45,
   "metadata": {},
   "outputs": [
    {
     "data": {
      "text/plain": [
       "((125087, 770), (13899, 770))"
      ]
     },
     "execution_count": 45,
     "metadata": {},
     "output_type": "execute_result"
    }
   ],
   "source": [
    "X_train.shape, X_test.shape"
   ]
  },
  {
   "cell_type": "code",
   "execution_count": null,
   "metadata": {
    "colab": {
     "base_uri": "https://localhost:8080/"
    },
    "id": "2ogjRrII6GmE",
    "outputId": "c992a25c-0a6a-4a13-e5f2-2ec35bf896c6"
   },
   "outputs": [],
   "source": [
    "param_grid = {'hidden_layer_sizes':[(300,200,100,50), (300,200,100,50,25)]\n",
    "              ,'tol':[0.00001]\n",
    "              ,'max_iter':[600]\n",
    "              ,'learning_rate_init':[0.0001]\n",
    "             }\n",
    "mlp = MLPClassifier(early_stopping=True)\n",
    "clf = GridSearchCV(mlp, param_grid, n_jobs=-1)\n",
    "# clf = MLPClassifier(hidden_layer_sizes=(400),random_state=1\n",
    "#                     ,early_stopping=True,tol=.00001,max_iter=300).fit(X_train, y_train)\n",
    "clf.fit(X_train, y_train)"
   ]
  },
  {
   "cell_type": "code",
   "execution_count": null,
   "metadata": {
    "colab": {
     "base_uri": "https://localhost:8080/"
    },
    "id": "2OLld6xn8gZA",
    "outputId": "b60e25b5-c74a-4759-a057-ae724266fb56"
   },
   "outputs": [],
   "source": [
    "print(clf.score(X_test, y_test))\n",
    "clf.best_estimator_"
   ]
  },
  {
   "cell_type": "code",
   "execution_count": null,
   "metadata": {
    "id": "II2QAEeEBe7V"
   },
   "outputs": [],
   "source": [
    "# clf.predict(X_test)"
   ]
  },
  {
   "cell_type": "code",
   "execution_count": null,
   "metadata": {},
   "outputs": [],
   "source": [
    "from joblib import dump, load\n",
    "dump(clf, 'filename.joblib')  "
   ]
  },
  {
   "cell_type": "code",
   "execution_count": null,
   "metadata": {},
   "outputs": [],
   "source": [
    "clf = load('filename.joblib') "
   ]
  },
  {
   "cell_type": "code",
   "execution_count": null,
   "metadata": {},
   "outputs": [],
   "source": [
    "import torch"
   ]
  },
  {
   "cell_type": "code",
   "execution_count": null,
   "metadata": {},
   "outputs": [],
   "source": [
    "class Feedforward(torch.nn.Module):\n",
    "        def __init__(self, input_size, hidden_size):\n",
    "            super(Feedforward, self).__init__()\n",
    "            self.input_size = input_size\n",
    "            self.hidden_size  = hidden_size\n",
    "            self.fc1 = torch.nn.Linear(self.input_size, self.hidden_size)\n",
    "            self.relu = torch.nn.ReLU()\n",
    "            self.fc2 = torch.nn.Linear(self.hidden_size, 1)\n",
    "            self.sigmoid = torch.nn.Sigmoid()\n",
    "        def forward(self, x):\n",
    "            hidden = self.fc1(x)\n",
    "            relu = self.relu(hidden)\n",
    "            output = self.fc2(relu)\n",
    "            output = self.sigmoid(output)\n",
    "            return output"
   ]
  },
  {
   "cell_type": "code",
   "execution_count": null,
   "metadata": {},
   "outputs": [],
   "source": [
    "model = Feedforward(770, 100)\n",
    "criterion = torch.nn.BCELoss()\n",
    "optimizer = torch.optim.SGD(model.parameters(), lr = 0.01)"
   ]
  },
  {
   "cell_type": "code",
   "execution_count": null,
   "metadata": {},
   "outputs": [],
   "source": [
    "import tensorflow as tf\n",
    "X_test_tensor = tf.convert_to_tensor(X_test)"
   ]
  },
  {
   "cell_type": "code",
   "execution_count": null,
   "metadata": {},
   "outputs": [],
   "source": [
    "model.eval()\n",
    "y_pred = model(X_test)\n",
    "before_train = criterion(y_pred.squeeze(), y_test)\n",
    "print('Test loss before training' , before_train.item())\n"
   ]
  },
  {
   "cell_type": "code",
   "execution_count": null,
   "metadata": {},
   "outputs": [],
   "source": []
  }
 ],
 "metadata": {
  "colab": {
   "name": "Chess_Engine",
   "provenance": []
  },
  "kernelspec": {
   "display_name": "Python 3",
   "language": "python",
   "name": "python3"
  },
  "language_info": {
   "codemirror_mode": {
    "name": "ipython",
    "version": 3
   },
   "file_extension": ".py",
   "mimetype": "text/x-python",
   "name": "python",
   "nbconvert_exporter": "python",
   "pygments_lexer": "ipython3",
   "version": "3.8.8"
  }
 },
 "nbformat": 4,
 "nbformat_minor": 4
}
