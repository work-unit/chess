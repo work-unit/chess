{
 "cells": [
  {
   "cell_type": "code",
   "execution_count": null,
   "metadata": {},
   "outputs": [],
   "source": [
    "# !pip install chess"
   ]
  },
  {
   "cell_type": "code",
   "execution_count": 2,
   "metadata": {
    "colab": {
     "base_uri": "https://localhost:8080/"
    },
    "id": "d1FIxLY--BtT",
    "outputId": "34763dd2-ae69-4891-ea4b-048795092911"
   },
   "outputs": [],
   "source": [
    "import numpy as np\n",
    "import pandas as pd\n",
    "import chess\n",
    "import chess.pgn\n",
    "from ChessFunctions import get_encoded_board, flatten_board\n",
    "from tqdm import tqdm\n",
    "import dask\n",
    "import dask.dataframe as dd\n",
    "import dask.array as da\n",
    "from dask import delayed"
   ]
  },
  {
   "cell_type": "code",
   "execution_count": 3,
   "metadata": {},
   "outputs": [
    {
     "data": {
      "text/html": [
       "<table style=\"border: 2px solid white;\">\n",
       "<tr>\n",
       "<td style=\"vertical-align: top; border: 0px solid white\">\n",
       "<h3 style=\"text-align: left;\">Client</h3>\n",
       "<ul style=\"text-align: left; list-style: none; margin: 0; padding: 0;\">\n",
       "  <li><b>Scheduler: </b>tcp://127.0.0.1:55183</li>\n",
       "  <li><b>Dashboard: </b><a href='http://127.0.0.1:8787/status' target='_blank'>http://127.0.0.1:8787/status</a></li>\n",
       "</ul>\n",
       "</td>\n",
       "<td style=\"vertical-align: top; border: 0px solid white\">\n",
       "<h3 style=\"text-align: left;\">Cluster</h3>\n",
       "<ul style=\"text-align: left; list-style:none; margin: 0; padding: 0;\">\n",
       "  <li><b>Workers: </b>4</li>\n",
       "  <li><b>Cores: </b>8</li>\n",
       "  <li><b>Memory: </b>17.18 GB</li>\n",
       "</ul>\n",
       "</td>\n",
       "</tr>\n",
       "</table>"
      ],
      "text/plain": [
       "<Client: 'tcp://127.0.0.1:55183' processes=4 threads=8, memory=17.18 GB>"
      ]
     },
     "execution_count": 3,
     "metadata": {},
     "output_type": "execute_result"
    }
   ],
   "source": [
    "from dask.distributed import Client, progress\n",
    "client = Client()\n",
    "client"
   ]
  },
  {
   "cell_type": "code",
   "execution_count": 4,
   "metadata": {},
   "outputs": [],
   "source": [
    "# client.close()"
   ]
  },
  {
   "cell_type": "code",
   "execution_count": 5,
   "metadata": {
    "id": "LLHjm8dR-EMC"
   },
   "outputs": [],
   "source": [
    "f = open('lichess_elite_2020-06.pgn')"
   ]
  },
  {
   "cell_type": "code",
   "execution_count": 6,
   "metadata": {
    "id": "yaGs0GSdACHl"
   },
   "outputs": [
    {
     "name": "stderr",
     "output_type": "stream",
     "text": [
      "100%|██████████| 100/100 [00:00<00:00, 335.08it/s]"
     ]
    },
    {
     "name": "stdout",
     "output_type": "stream",
     "text": [
      "CPU times: user 282 ms, sys: 17.1 ms, total: 299 ms\n",
      "Wall time: 302 ms\n"
     ]
    },
    {
     "name": "stderr",
     "output_type": "stream",
     "text": [
      "\n"
     ]
    }
   ],
   "source": [
    "%%time \n",
    "my_list = []\n",
    "Y_labels = []\n",
    "for i in tqdm(range(100)):\n",
    "# while True:\n",
    "    game = chess.pgn.read_game(f)\n",
    "    if game is None:\n",
    "        break  # end of file\n",
    "    my_list.append(game)"
   ]
  },
  {
   "cell_type": "code",
   "execution_count": 7,
   "metadata": {},
   "outputs": [],
   "source": [
    "# def flatten_board(x):\n",
    "#     return(str(x).replace(' ','').replace('\\n',''))"
   ]
  },
  {
   "cell_type": "code",
   "execution_count": 8,
   "metadata": {
    "id": "FWduHuZFLtKB"
   },
   "outputs": [],
   "source": [
    "# def get_encoded_board(x):\n",
    "#     '''Must pass a flattened board'''\n",
    "#     num_squares = range(64)\n",
    "    \n",
    "#     #Black Player Feature Vectors\n",
    "#     b_rook  = [1 if x[i]=='r' else 0 for i in num_squares]\n",
    "#     b_night = [1 if x[i]=='n' else 0 for i in num_squares]\n",
    "#     b_bish  = [1 if x[i]=='b' else 0 for i in num_squares]\n",
    "#     b_queen = [1 if x[i]=='q' else 0 for i in num_squares]\n",
    "#     b_king  = [1 if x[i]=='k' else 0 for i in num_squares]\n",
    "#     b_pawn  = [1 if x[i]=='p' else 0 for i in num_squares]\n",
    "#     b_value = [(sum(b_rook)*5 + sum(b_night)*3 + sum(b_bish)*3\n",
    "#            + sum(b_queen)*9 + sum(b_pawn)*1\n",
    "#           )]\n",
    "    \n",
    "#     #White Player Feature Vectors\n",
    "#     w_rook  = [1 if x[i]=='R' else 0 for i in num_squares]\n",
    "#     w_night = [1 if x[i]=='N' else 0 for i in num_squares]\n",
    "#     w_bish  = [1 if x[i]=='B' else 0 for i in num_squares]\n",
    "#     w_queen = [1 if x[i]=='Q' else 0 for i in num_squares]\n",
    "#     w_king  = [1 if x[i]=='K' else 0 for i in num_squares]\n",
    "#     w_pawn  = [1 if x[i]=='P' else 0 for i in num_squares]\n",
    "#     w_value = [(sum(w_rook)*5 + sum(w_night)*3 + sum(w_bish)*3\n",
    "#            + sum(w_queen)*9 + sum(w_pawn)*1\n",
    "#           )]\n",
    "\n",
    "#     feature_list = (b_rook+b_night+b_bish+b_queen\n",
    "#                 +b_king+b_pawn+w_rook+w_night+w_bish\n",
    "#                 +w_queen+w_king+w_pawn+b_value+w_value)\n",
    "    \n",
    "# #     feature_list = dd.from_array(np.append(feature_list,[w_value,b_value]))\n",
    "    \n",
    "# #     feature_list.extend[w_value,b_value]\n",
    "\n",
    "\n",
    "# #     feature_list = (b_rook+b_night+b_bish+b_queen\n",
    "# #                 +b_king+b_pawn+w_rook+w_night+w_bish\n",
    "# #                 +w_queen+w_king+w_pawn)\n",
    "    \n",
    "#     return(feature_list)"
   ]
  },
  {
   "cell_type": "code",
   "execution_count": 9,
   "metadata": {},
   "outputs": [],
   "source": [
    "# def collect_game_states(games):\n",
    "#     allgame_df = pd.DataFrame()\n",
    "#     for game in games:\n",
    "#         board = game.board() \n",
    "#         board_state = get_encoded_board(board)\n",
    "#         for move in game.mainline_moves():\n",
    "#             board.push(move)\n",
    "#             board_state = np.row_stack((board_state,get_encoded_board(board)))\n",
    "#         df = pd.DataFrame(board_state)\n",
    "#         df['gameid'] = game.headers[\"LichessURL\"]\n",
    "#         allgame_df = pd.concat([allgame_df,df])\n",
    "#     ddf = dd.from_pandas(allgame_df,npartitions=1)\n",
    "#     return ddf"
   ]
  },
  {
   "cell_type": "code",
   "execution_count": 10,
   "metadata": {},
   "outputs": [
    {
     "name": "stderr",
     "output_type": "stream",
     "text": [
      "100%|██████████| 100/100 [00:00<00:00, 203.43it/s]"
     ]
    },
    {
     "name": "stdout",
     "output_type": "stream",
     "text": [
      "CPU times: user 480 ms, sys: 27.9 ms, total: 508 ms\n",
      "Wall time: 493 ms\n"
     ]
    },
    {
     "name": "stderr",
     "output_type": "stream",
     "text": [
      "\n"
     ]
    }
   ],
   "source": [
    "%%time\n",
    "allgame_df = pd.DataFrame()\n",
    "for game in tqdm(my_list):\n",
    "    if game.headers['Termination']=='Normal':\n",
    "        board = game.board() \n",
    "        board_state = [flatten_board(board)]\n",
    "        for move in game.mainline_moves():\n",
    "            board.push(move)\n",
    "            board_state = np.row_stack((board_state,flatten_board(board)))\n",
    "        df = pd.DataFrame(board_state)\n",
    "        df['gameid'] = game.headers[\"LichessURL\"]\n",
    "        df['result'] = (np.where\n",
    "                        (game.headers[\"Result\"]==\"1-0\",'w',\n",
    "                         np.where(game.headers[\"Result\"]==\"0-1\",'l','d')\n",
    "                        )\n",
    "                       )\n",
    "        df = df[3:]\n",
    "        allgame_df = pd.concat([allgame_df,df])\n",
    "    else:\n",
    "        next"
   ]
  },
  {
   "cell_type": "code",
   "execution_count": 11,
   "metadata": {},
   "outputs": [],
   "source": [
    "ddf = dd.from_pandas(allgame_df,npartitions=100000)"
   ]
  },
  {
   "cell_type": "code",
   "execution_count": 12,
   "metadata": {},
   "outputs": [],
   "source": [
    "ddf = client.persist(ddf)"
   ]
  },
  {
   "cell_type": "code",
   "execution_count": 13,
   "metadata": {},
   "outputs": [],
   "source": [
    "ddf['features'] = ddf[0].apply(get_encoded_board,meta=('I'))"
   ]
  },
  {
   "cell_type": "code",
   "execution_count": 14,
   "metadata": {},
   "outputs": [
    {
     "data": {
      "text/html": [
       "<div>\n",
       "<style scoped>\n",
       "    .dataframe tbody tr th:only-of-type {\n",
       "        vertical-align: middle;\n",
       "    }\n",
       "\n",
       "    .dataframe tbody tr th {\n",
       "        vertical-align: top;\n",
       "    }\n",
       "\n",
       "    .dataframe thead th {\n",
       "        text-align: right;\n",
       "    }\n",
       "</style>\n",
       "<table border=\"1\" class=\"dataframe\">\n",
       "  <thead>\n",
       "    <tr style=\"text-align: right;\">\n",
       "      <th></th>\n",
       "      <th>0</th>\n",
       "      <th>gameid</th>\n",
       "      <th>result</th>\n",
       "      <th>features</th>\n",
       "    </tr>\n",
       "  </thead>\n",
       "  <tbody>\n",
       "    <tr>\n",
       "      <th>3</th>\n",
       "      <td>rnbqkbnrpppp.ppp....p..............PP............</td>\n",
       "      <td>https://lichess.org/kuUOsOML</td>\n",
       "      <td>d</td>\n",
       "      <td>[1, 0, 0, 0, 0, 0, 0, 1, 0, 0, 0, 0, 0, 0, 0, ...</td>\n",
       "    </tr>\n",
       "    <tr>\n",
       "      <th>3</th>\n",
       "      <td>rnbqkb.rpppppppp.....n............PP.............</td>\n",
       "      <td>https://lichess.org/MhgO70rO</td>\n",
       "      <td>w</td>\n",
       "      <td>[1, 0, 0, 0, 0, 0, 0, 1, 0, 0, 0, 0, 0, 0, 0, ...</td>\n",
       "    </tr>\n",
       "    <tr>\n",
       "      <th>3</th>\n",
       "      <td>rnbqkbnrpppp.ppp....p..............PP............</td>\n",
       "      <td>https://lichess.org/59fq1TbD</td>\n",
       "      <td>l</td>\n",
       "      <td>[1, 0, 0, 0, 0, 0, 0, 1, 0, 0, 0, 0, 0, 0, 0, ...</td>\n",
       "    </tr>\n",
       "    <tr>\n",
       "      <th>3</th>\n",
       "      <td>rnbqkb.rpppppppp.....n......P....................</td>\n",
       "      <td>https://lichess.org/00hqujG8</td>\n",
       "      <td>l</td>\n",
       "      <td>[1, 0, 0, 0, 0, 0, 0, 1, 0, 0, 0, 0, 0, 0, 0, ...</td>\n",
       "    </tr>\n",
       "    <tr>\n",
       "      <th>3</th>\n",
       "      <td>rnbqkbnrpppp.ppp....p..............PP............</td>\n",
       "      <td>https://lichess.org/OWFZIcDF</td>\n",
       "      <td>w</td>\n",
       "      <td>[1, 0, 0, 0, 0, 0, 0, 1, 0, 0, 0, 0, 0, 0, 0, ...</td>\n",
       "    </tr>\n",
       "    <tr>\n",
       "      <th>...</th>\n",
       "      <td>...</td>\n",
       "      <td>...</td>\n",
       "      <td>...</td>\n",
       "      <td>...</td>\n",
       "    </tr>\n",
       "    <tr>\n",
       "      <th>154</th>\n",
       "      <td>...........k.....K...............q...............</td>\n",
       "      <td>https://lichess.org/WGDO7qrJ</td>\n",
       "      <td>l</td>\n",
       "      <td>[0, 0, 0, 0, 0, 0, 0, 0, 0, 0, 0, 0, 0, 0, 0, ...</td>\n",
       "    </tr>\n",
       "    <tr>\n",
       "      <th>155</th>\n",
       "      <td>...........k....K................q...............</td>\n",
       "      <td>https://lichess.org/WGDO7qrJ</td>\n",
       "      <td>l</td>\n",
       "      <td>[0, 0, 0, 0, 0, 0, 0, 0, 0, 0, 0, 0, 0, 0, 0, ...</td>\n",
       "    </tr>\n",
       "    <tr>\n",
       "      <th>156</th>\n",
       "      <td>..........k.....K................q...............</td>\n",
       "      <td>https://lichess.org/WGDO7qrJ</td>\n",
       "      <td>l</td>\n",
       "      <td>[0, 0, 0, 0, 0, 0, 0, 0, 0, 0, 0, 0, 0, 0, 0, ...</td>\n",
       "    </tr>\n",
       "    <tr>\n",
       "      <th>157</th>\n",
       "      <td>........K.k......................q...............</td>\n",
       "      <td>https://lichess.org/WGDO7qrJ</td>\n",
       "      <td>l</td>\n",
       "      <td>[0, 0, 0, 0, 0, 0, 0, 0, 0, 0, 0, 0, 0, 0, 0, ...</td>\n",
       "    </tr>\n",
       "    <tr>\n",
       "      <th>158</th>\n",
       "      <td>........Kqk......................................</td>\n",
       "      <td>https://lichess.org/WGDO7qrJ</td>\n",
       "      <td>l</td>\n",
       "      <td>[0, 0, 0, 0, 0, 0, 0, 0, 0, 0, 0, 0, 0, 0, 0, ...</td>\n",
       "    </tr>\n",
       "  </tbody>\n",
       "</table>\n",
       "<p>5088 rows × 4 columns</p>\n",
       "</div>"
      ],
      "text/plain": [
       "                                                     0  \\\n",
       "3    rnbqkbnrpppp.ppp....p..............PP............   \n",
       "3    rnbqkb.rpppppppp.....n............PP.............   \n",
       "3    rnbqkbnrpppp.ppp....p..............PP............   \n",
       "3    rnbqkb.rpppppppp.....n......P....................   \n",
       "3    rnbqkbnrpppp.ppp....p..............PP............   \n",
       "..                                                 ...   \n",
       "154  ...........k.....K...............q...............   \n",
       "155  ...........k....K................q...............   \n",
       "156  ..........k.....K................q...............   \n",
       "157  ........K.k......................q...............   \n",
       "158  ........Kqk......................................   \n",
       "\n",
       "                           gameid result  \\\n",
       "3    https://lichess.org/kuUOsOML      d   \n",
       "3    https://lichess.org/MhgO70rO      w   \n",
       "3    https://lichess.org/59fq1TbD      l   \n",
       "3    https://lichess.org/00hqujG8      l   \n",
       "3    https://lichess.org/OWFZIcDF      w   \n",
       "..                            ...    ...   \n",
       "154  https://lichess.org/WGDO7qrJ      l   \n",
       "155  https://lichess.org/WGDO7qrJ      l   \n",
       "156  https://lichess.org/WGDO7qrJ      l   \n",
       "157  https://lichess.org/WGDO7qrJ      l   \n",
       "158  https://lichess.org/WGDO7qrJ      l   \n",
       "\n",
       "                                              features  \n",
       "3    [1, 0, 0, 0, 0, 0, 0, 1, 0, 0, 0, 0, 0, 0, 0, ...  \n",
       "3    [1, 0, 0, 0, 0, 0, 0, 1, 0, 0, 0, 0, 0, 0, 0, ...  \n",
       "3    [1, 0, 0, 0, 0, 0, 0, 1, 0, 0, 0, 0, 0, 0, 0, ...  \n",
       "3    [1, 0, 0, 0, 0, 0, 0, 1, 0, 0, 0, 0, 0, 0, 0, ...  \n",
       "3    [1, 0, 0, 0, 0, 0, 0, 1, 0, 0, 0, 0, 0, 0, 0, ...  \n",
       "..                                                 ...  \n",
       "154  [0, 0, 0, 0, 0, 0, 0, 0, 0, 0, 0, 0, 0, 0, 0, ...  \n",
       "155  [0, 0, 0, 0, 0, 0, 0, 0, 0, 0, 0, 0, 0, 0, 0, ...  \n",
       "156  [0, 0, 0, 0, 0, 0, 0, 0, 0, 0, 0, 0, 0, 0, 0, ...  \n",
       "157  [0, 0, 0, 0, 0, 0, 0, 0, 0, 0, 0, 0, 0, 0, 0, ...  \n",
       "158  [0, 0, 0, 0, 0, 0, 0, 0, 0, 0, 0, 0, 0, 0, 0, ...  \n",
       "\n",
       "[5088 rows x 4 columns]"
      ]
     },
     "execution_count": 14,
     "metadata": {},
     "output_type": "execute_result"
    }
   ],
   "source": [
    "ddf.compute()"
   ]
  },
  {
   "cell_type": "code",
   "execution_count": 15,
   "metadata": {},
   "outputs": [],
   "source": [
    "def to_series(df):\n",
    "    return df.features.apply(pd.Series, 1).stack().reset_index(level=1, drop=True)"
   ]
  },
  {
   "cell_type": "code",
   "execution_count": 16,
   "metadata": {},
   "outputs": [],
   "source": [
    "# da_X = da.array(ddf.map_partitions(func))\n",
    "# da_X.compute().shape"
   ]
  },
  {
   "cell_type": "code",
   "execution_count": 17,
   "metadata": {},
   "outputs": [],
   "source": [
    "feature_array = np.array(ddf.map_partitions(to_series).compute()).reshape(-1,770)"
   ]
  },
  {
   "cell_type": "code",
   "execution_count": null,
   "metadata": {},
   "outputs": [],
   "source": []
  },
  {
   "cell_type": "code",
   "execution_count": 18,
   "metadata": {
    "colab": {
     "base_uri": "https://localhost:8080/"
    },
    "id": "kjlx--BO1PAH",
    "outputId": "86db3273-dc80-4f85-d014-935fb0583547"
   },
   "outputs": [
    {
     "name": "stdout",
     "output_type": "stream",
     "text": [
      "X: (5088, 770)\n",
      "Y: (5088,)\n"
     ]
    }
   ],
   "source": [
    "X = feature_array\n",
    "Y_labels = allgame_df['result']\n",
    "print(\"X: \" + str(X.shape))\n",
    "print(\"Y: \" + str(Y_labels.shape))"
   ]
  },
  {
   "cell_type": "code",
   "execution_count": 19,
   "metadata": {
    "colab": {
     "base_uri": "https://localhost:8080/"
    },
    "id": "2ogjRrII6GmE",
    "outputId": "c992a25c-0a6a-4a13-e5f2-2ec35bf896c6"
   },
   "outputs": [
    {
     "name": "stdout",
     "output_type": "stream",
     "text": [
      "CPU times: user 228 ms, sys: 36.6 ms, total: 265 ms\n",
      "Wall time: 296 ms\n"
     ]
    }
   ],
   "source": [
    "%%time\n",
    "from sklearn.neural_network import MLPClassifier\n",
    "from sklearn.model_selection import train_test_split,GridSearchCV\n",
    "X_train, X_test, y_train, y_test = train_test_split(\n",
    "    X, Y_labels, stratify=Y_labels, train_size = 0.9\n",
    "    ,random_state=1\n",
    ")"
   ]
  },
  {
   "cell_type": "code",
   "execution_count": 20,
   "metadata": {},
   "outputs": [
    {
     "data": {
      "text/plain": [
       "((4579, 770), (509, 770))"
      ]
     },
     "execution_count": 20,
     "metadata": {},
     "output_type": "execute_result"
    }
   ],
   "source": [
    "X_train.shape, X_test.shape"
   ]
  },
  {
   "cell_type": "code",
   "execution_count": 29,
   "metadata": {
    "colab": {
     "base_uri": "https://localhost:8080/"
    },
    "id": "2ogjRrII6GmE",
    "outputId": "c992a25c-0a6a-4a13-e5f2-2ec35bf896c6"
   },
   "outputs": [
    {
     "data": {
      "text/plain": [
       "GridSearchCV(estimator=MLPClassifier(early_stopping=True), n_jobs=-1,\n",
       "             param_grid={'hidden_layer_sizes': [(25, 25, 25, 10, 10, 10, 5, 5,\n",
       "                                                 5)],\n",
       "                         'learning_rate_init': [0.0001], 'max_iter': [600],\n",
       "                         'tol': [1e-05]})"
      ]
     },
     "execution_count": 29,
     "metadata": {},
     "output_type": "execute_result"
    }
   ],
   "source": [
    "param_grid = {'hidden_layer_sizes':[(25,25,25,10,10,10,5,5,5)]\n",
    "              ,'tol':[0.00001]\n",
    "              ,'max_iter':[600]\n",
    "              ,'learning_rate_init':[0.0001]\n",
    "             }\n",
    "mlp = MLPClassifier(early_stopping=True)\n",
    "clf = GridSearchCV(mlp, param_grid, n_jobs=-1)\n",
    "# clf = MLPClassifier(hidden_layer_sizes=(400),random_state=1\n",
    "#                     ,early_stopping=True,tol=.00001,max_iter=300).fit(X_train, y_train)\n",
    "clf.fit(X_train, y_train)"
   ]
  },
  {
   "cell_type": "code",
   "execution_count": 30,
   "metadata": {
    "colab": {
     "base_uri": "https://localhost:8080/"
    },
    "id": "2OLld6xn8gZA",
    "outputId": "b60e25b5-c74a-4759-a057-ae724266fb56"
   },
   "outputs": [
    {
     "name": "stdout",
     "output_type": "stream",
     "text": [
      "0.39096267190569745\n"
     ]
    },
    {
     "data": {
      "text/plain": [
       "MLPClassifier(early_stopping=True,\n",
       "              hidden_layer_sizes=(25, 25, 25, 10, 10, 10, 5, 5, 5),\n",
       "              learning_rate_init=0.0001, max_iter=600, tol=1e-05)"
      ]
     },
     "execution_count": 30,
     "metadata": {},
     "output_type": "execute_result"
    }
   ],
   "source": [
    "print(clf.score(X_test, y_test))\n",
    "clf.best_estimator_"
   ]
  },
  {
   "cell_type": "code",
   "execution_count": 23,
   "metadata": {
    "id": "II2QAEeEBe7V"
   },
   "outputs": [],
   "source": [
    "# clf.predict(X_test)"
   ]
  },
  {
   "cell_type": "code",
   "execution_count": 24,
   "metadata": {},
   "outputs": [
    {
     "data": {
      "text/plain": [
       "['filename.joblib']"
      ]
     },
     "execution_count": 24,
     "metadata": {},
     "output_type": "execute_result"
    }
   ],
   "source": [
    "from joblib import dump, load\n",
    "dump(clf, 'filename.joblib')  "
   ]
  },
  {
   "cell_type": "code",
   "execution_count": 25,
   "metadata": {},
   "outputs": [],
   "source": [
    "clf = load('filename.joblib') "
   ]
  },
  {
   "cell_type": "code",
   "execution_count": 26,
   "metadata": {},
   "outputs": [
    {
     "ename": "ModuleNotFoundError",
     "evalue": "No module named 'torch'",
     "output_type": "error",
     "traceback": [
      "\u001b[0;31m---------------------------------------------------------------------------\u001b[0m",
      "\u001b[0;31mModuleNotFoundError\u001b[0m                       Traceback (most recent call last)",
      "\u001b[0;32m<ipython-input-26-eb42ca6e4af3>\u001b[0m in \u001b[0;36m<module>\u001b[0;34m\u001b[0m\n\u001b[0;32m----> 1\u001b[0;31m \u001b[0;32mimport\u001b[0m \u001b[0mtorch\u001b[0m\u001b[0;34m\u001b[0m\u001b[0;34m\u001b[0m\u001b[0m\n\u001b[0m",
      "\u001b[0;31mModuleNotFoundError\u001b[0m: No module named 'torch'"
     ]
    }
   ],
   "source": [
    "# import torch"
   ]
  },
  {
   "cell_type": "code",
   "execution_count": null,
   "metadata": {},
   "outputs": [],
   "source": [
    "# class Feedforward(torch.nn.Module):\n",
    "#         def __init__(self, input_size, hidden_size):\n",
    "#             super(Feedforward, self).__init__()\n",
    "#             self.input_size = input_size\n",
    "#             self.hidden_size  = hidden_size\n",
    "#             self.fc1 = torch.nn.Linear(self.input_size, self.hidden_size)\n",
    "#             self.relu = torch.nn.ReLU()\n",
    "#             self.fc2 = torch.nn.Linear(self.hidden_size, 1)\n",
    "#             self.sigmoid = torch.nn.Sigmoid()\n",
    "#         def forward(self, x):\n",
    "#             hidden = self.fc1(x)\n",
    "#             relu = self.relu(hidden)\n",
    "#             output = self.fc2(relu)\n",
    "#             output = self.sigmoid(output)\n",
    "#             return output"
   ]
  },
  {
   "cell_type": "code",
   "execution_count": null,
   "metadata": {},
   "outputs": [],
   "source": [
    "# model = Feedforward(770, 100)\n",
    "# criterion = torch.nn.BCELoss()\n",
    "# optimizer = torch.optim.SGD(model.parameters(), lr = 0.01)"
   ]
  },
  {
   "cell_type": "code",
   "execution_count": null,
   "metadata": {},
   "outputs": [],
   "source": [
    "# import tensorflow as tf\n",
    "# X_test_tensor = tf.convert_to_tensor(X_test)"
   ]
  },
  {
   "cell_type": "code",
   "execution_count": null,
   "metadata": {},
   "outputs": [],
   "source": [
    "# model.eval()\n",
    "# y_pred = model(X_test)\n",
    "# before_train = criterion(y_pred.squeeze(), y_test)\n",
    "# print('Test loss before training' , before_train.item())\n"
   ]
  },
  {
   "cell_type": "code",
   "execution_count": null,
   "metadata": {},
   "outputs": [],
   "source": []
  }
 ],
 "metadata": {
  "colab": {
   "name": "Chess_Engine",
   "provenance": []
  },
  "kernelspec": {
   "display_name": "Python 3",
   "language": "python",
   "name": "python3"
  },
  "language_info": {
   "codemirror_mode": {
    "name": "ipython",
    "version": 3
   },
   "file_extension": ".py",
   "mimetype": "text/x-python",
   "name": "python",
   "nbconvert_exporter": "python",
   "pygments_lexer": "ipython3",
   "version": "3.8.8"
  }
 },
 "nbformat": 4,
 "nbformat_minor": 4
}
