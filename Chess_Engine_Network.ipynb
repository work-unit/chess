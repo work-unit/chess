{
 "cells": [
  {
   "cell_type": "code",
   "execution_count": 4,
   "metadata": {
    "colab": {
     "base_uri": "https://localhost:8080/"
    },
    "id": "d1FIxLY--BtT",
    "outputId": "34763dd2-ae69-4891-ea4b-048795092911"
   },
   "outputs": [],
   "source": [
    "import numpy as np\n",
    "import pandas as pd\n",
    "import chess\n",
    "import chess.pgn\n",
    "from ChessFunctions import get_encoded_board"
   ]
  },
  {
   "cell_type": "code",
   "execution_count": 2,
   "metadata": {
    "id": "LLHjm8dR-EMC"
   },
   "outputs": [],
   "source": [
    "f = open('lichess_elite_2020-06.pgn')"
   ]
  },
  {
   "cell_type": "code",
   "execution_count": 3,
   "metadata": {
    "id": "yaGs0GSdACHl"
   },
   "outputs": [],
   "source": [
    "my_list = []\n",
    "Y_labels = []\n",
    "for game in range(4000):\n",
    "# while True:\n",
    "    game = chess.pgn.read_game(f)\n",
    "    if game is None:\n",
    "        break  # end of file\n",
    "    my_list.append(game)"
   ]
  },
  {
   "cell_type": "code",
   "execution_count": 15,
   "metadata": {},
   "outputs": [],
   "source": [
    "def flatten_board(x):\n",
    "    return(str(x).replace(' ','').replace('\\n',''))"
   ]
  },
  {
   "cell_type": "code",
   "execution_count": 38,
   "metadata": {
    "id": "FWduHuZFLtKB"
   },
   "outputs": [],
   "source": [
    "def get_encoded_board(x):\n",
    "    num_squares = range(64)\n",
    "\n",
    "    x = flatten_board(x)\n",
    "    #Black Player Feature Vectors\n",
    "    b_rook  = [1 if x[i]=='r' else 0 for i in num_squares]\n",
    "    b_night = [1 if x[i]=='n' else 0 for i in num_squares]\n",
    "    b_bish  = [1 if x[i]=='b' else 0 for i in num_squares]\n",
    "    b_queen = [1 if x[i]=='q' else 0 for i in num_squares]\n",
    "    b_king  = [1 if x[i]=='k' else 0 for i in num_squares]\n",
    "    b_pawn  = [1 if x[i]=='p' else 0 for i in num_squares]\n",
    "    b_value = (sum(b_rook)*5 + sum(b_night)*3 + sum(b_bish)*3\n",
    "           + sum(b_queen)*9 + sum(b_pawn)*1\n",
    "          )\n",
    "    \n",
    "    #White Player Feature Vectors\n",
    "    w_rook  = [1 if x[i]=='R' else 0 for i in num_squares]\n",
    "    w_night = [1 if x[i]=='N' else 0 for i in num_squares]\n",
    "    w_bish  = [1 if x[i]=='B' else 0 for i in num_squares]\n",
    "    w_queen = [1 if x[i]=='Q' else 0 for i in num_squares]\n",
    "    w_king  = [1 if x[i]=='K' else 0 for i in num_squares]\n",
    "    w_pawn  = [1 if x[i]=='P' else 0 for i in num_squares]\n",
    "    w_value = (sum(w_rook)*5 + sum(w_night)*3 + sum(w_bish)*3\n",
    "           + sum(w_queen)*9 + sum(w_pawn)*1\n",
    "          )\n",
    "\n",
    "    feature_list = np.array(b_rook+b_night+b_bish+b_queen\n",
    "                +b_king+b_pawn+w_rook+w_night+w_bish\n",
    "                +w_queen+w_king+w_pawn).reshape([1,768])\n",
    "    \n",
    "    feature_list = np.append(feature_list,[w_value,b_value])\n",
    "    \n",
    "    return(feature_list)"
   ]
  },
  {
   "cell_type": "code",
   "execution_count": 39,
   "metadata": {
    "id": "hlDcWihtClp7"
   },
   "outputs": [],
   "source": [
    "game_state_dictionary = {}\n",
    "Y_labels = []\n",
    "i = 0\n",
    "for game in my_list:\n",
    "    board = game.board()\n",
    "    board_state = get_encoded_board(board)\n",
    "    # Win\n",
    "    if game.headers['Result'] == \"1-0\":\n",
    "        Y_labels.append(\"w\")\n",
    "    # Lose\n",
    "    elif game.headers['Result'] == \"0-1\":\n",
    "        Y_labels.append('l')\n",
    "    # Draw\n",
    "    else:\n",
    "        Y_labels.append('d')\n",
    "    for move in game.mainline_moves():\n",
    "        board.push(move)\n",
    "        board_state = np.row_stack((board_state,get_encoded_board(board)))\n",
    "        # Win\n",
    "        if game.headers['Result'] == \"1-0\":\n",
    "            Y_labels.append('w')\n",
    "        # Lose\n",
    "        elif game.headers['Result'] == \"0-1\":\n",
    "            Y_labels.append('l')\n",
    "        # Draw\n",
    "        else:\n",
    "            Y_labels.append('d')\n",
    "    game_state_dictionary[i] = board_state\n",
    "    i = i+1"
   ]
  },
  {
   "cell_type": "code",
   "execution_count": 40,
   "metadata": {
    "colab": {
     "base_uri": "https://localhost:8080/"
    },
    "id": "sXh6kd7Jqcan",
    "outputId": "aea2118e-92a9-459a-e722-0c5c0264dba4"
   },
   "outputs": [
    {
     "data": {
      "text/plain": [
       "332834"
      ]
     },
     "execution_count": 40,
     "metadata": {},
     "output_type": "execute_result"
    }
   ],
   "source": [
    "len(Y_labels)"
   ]
  },
  {
   "cell_type": "code",
   "execution_count": 41,
   "metadata": {
    "colab": {
     "base_uri": "https://localhost:8080/"
    },
    "id": "kjlx--BO1PAH",
    "outputId": "86db3273-dc80-4f85-d014-935fb0583547"
   },
   "outputs": [
    {
     "data": {
      "text/plain": [
       "(332834, 770)"
      ]
     },
     "execution_count": 41,
     "metadata": {},
     "output_type": "execute_result"
    }
   ],
   "source": [
    "X = np.row_stack([game_state_dictionary[x] for x in sorted(game_state_dictionary)])\n",
    "X.shape"
   ]
  },
  {
   "cell_type": "code",
   "execution_count": 46,
   "metadata": {
    "colab": {
     "base_uri": "https://localhost:8080/"
    },
    "id": "2ogjRrII6GmE",
    "outputId": "c992a25c-0a6a-4a13-e5f2-2ec35bf896c6"
   },
   "outputs": [
    {
     "name": "stdout",
     "output_type": "stream",
     "text": [
      "CPU times: user 2h 19min 38s, sys: 14min 12s, total: 2h 33min 50s\n",
      "Wall time: 55min 17s\n"
     ]
    },
    {
     "data": {
      "text/plain": [
       "array([[4.31825056e-01, 1.45686006e-01, 4.22488938e-01],\n",
       "       [7.38428375e-02, 3.11146975e-08, 9.26157131e-01],\n",
       "       [3.25987168e-06, 9.95547477e-01, 4.44926291e-03],\n",
       "       ...,\n",
       "       [5.69838381e-10, 9.99957370e-01, 4.26292903e-05],\n",
       "       [1.00000000e+00, 7.49547400e-13, 2.48557299e-15],\n",
       "       [9.60428488e-09, 8.08378714e-01, 1.91621276e-01]])"
      ]
     },
     "execution_count": 46,
     "metadata": {},
     "output_type": "execute_result"
    }
   ],
   "source": [
    "%%time\n",
    "from sklearn.neural_network import MLPClassifier\n",
    "from sklearn.model_selection import train_test_split\n",
    "X_train, X_test, y_train, y_test = train_test_split(X, Y_labels, stratify=Y_labels,random_state=1)\n",
    "clf = MLPClassifier(hidden_layer_sizes=(400,300,200),random_state=1\n",
    "                    ,early_stopping=True,tol=.00001,max_iter=300).fit(X_train, y_train)\n",
    "clf.predict_proba(X_test)"
   ]
  },
  {
   "cell_type": "code",
   "execution_count": 47,
   "metadata": {
    "colab": {
     "base_uri": "https://localhost:8080/"
    },
    "id": "2OLld6xn8gZA",
    "outputId": "b60e25b5-c74a-4759-a057-ae724266fb56"
   },
   "outputs": [
    {
     "data": {
      "text/plain": [
       "0.8914660673725198"
      ]
     },
     "execution_count": 47,
     "metadata": {},
     "output_type": "execute_result"
    }
   ],
   "source": [
    "clf.score(X_test, y_test)"
   ]
  },
  {
   "cell_type": "code",
   "execution_count": 48,
   "metadata": {
    "id": "II2QAEeEBe7V"
   },
   "outputs": [],
   "source": [
    "# clf.predict(X_test)"
   ]
  },
  {
   "cell_type": "code",
   "execution_count": 49,
   "metadata": {},
   "outputs": [
    {
     "data": {
      "text/plain": [
       "['filename.joblib']"
      ]
     },
     "execution_count": 49,
     "metadata": {},
     "output_type": "execute_result"
    }
   ],
   "source": [
    "from joblib import dump, load\n",
    "dump(clf, 'filename.joblib')  "
   ]
  },
  {
   "cell_type": "code",
   "execution_count": 50,
   "metadata": {},
   "outputs": [],
   "source": [
    "clf = load('filename.joblib') "
   ]
  },
  {
   "cell_type": "code",
   "execution_count": null,
   "metadata": {},
   "outputs": [],
   "source": []
  }
 ],
 "metadata": {
  "colab": {
   "name": "Chess_Engine",
   "provenance": []
  },
  "kernelspec": {
   "display_name": "Python 3",
   "language": "python",
   "name": "python3"
  },
  "language_info": {
   "codemirror_mode": {
    "name": "ipython",
    "version": 3
   },
   "file_extension": ".py",
   "mimetype": "text/x-python",
   "name": "python",
   "nbconvert_exporter": "python",
   "pygments_lexer": "ipython3",
   "version": "3.8.5"
  }
 },
 "nbformat": 4,
 "nbformat_minor": 4
}
