{
 "cells": [
  {
   "cell_type": "code",
   "execution_count": 2,
   "metadata": {},
   "outputs": [],
   "source": [
    "import test\n",
    "import chess"
   ]
  },
  {
   "cell_type": "code",
   "execution_count": null,
   "metadata": {},
   "outputs": [],
   "source": [
    "#test.testfunc()"
   ]
  },
  {
   "cell_type": "code",
   "execution_count": 3,
   "metadata": {},
   "outputs": [],
   "source": [
    "board = chess.Board()"
   ]
  },
  {
   "cell_type": "code",
   "execution_count": 8,
   "metadata": {},
   "outputs": [],
   "source": [
    "n0 = board.legal_moves"
   ]
  },
  {
   "cell_type": "code",
   "execution_count": 15,
   "metadata": {},
   "outputs": [
    {
     "name": "stdout",
     "output_type": "stream",
     "text": [
      "<LegalMoveGenerator at 0x7f9df1b36220 (Nh3, Nf3, Nc3, Na3, h3, g3, f3, e3, d3, c3, b3, a3, h4, g4, f4, e4, d4, c4, b4, a4)>\n"
     ]
    }
   ],
   "source": [
    "for move in n0:\n",
    "    board.push(move)\n",
    "#for each in n0:\n",
    "#    print(each)"
   ]
  },
  {
   "cell_type": "code",
   "execution_count": 22,
   "metadata": {},
   "outputs": [
    {
     "data": {
      "text/plain": [
       "<__main__.Tree at 0x7f9df1b48310>"
      ]
     },
     "execution_count": 22,
     "metadata": {},
     "output_type": "execute_result"
    }
   ],
   "source": [
    "class Tree():\n",
    "    def __init__(self,root):\n",
    "        self.root = root\n",
    "        self.children = []\n",
    "    def addNode(self,obj):\n",
    "        self.children.append(obj)\n",
    "class Node():\n",
    "    def __init__(self, data):\n",
    "        self.data = data\n",
    "        self.children = []\n",
    "    def addNode(self,obj):\n",
    "        self.children.append(obj)"
   ]
  },
  {
   "cell_type": "code",
   "execution_count": 31,
   "metadata": {},
   "outputs": [],
   "source": [
    "class Tree():\n",
    "    def __init__(self,root):\n",
    "        self.root = root\n",
    "        self.children = []\n",
    "    def addNode(self,obj):\n",
    "        self.children.append(obj)\n",
    "class Node():\n",
    "    def __init__(self, parent):\n",
    "        self.parent = parent\n",
    "        self.children = []\n",
    "    def addNode(self,obj):\n",
    "        self.children.append(obj)"
   ]
  },
  {
   "cell_type": "code",
   "execution_count": 40,
   "metadata": {},
   "outputs": [],
   "source": [
    "board = chess.Board()\n",
    "chess_tree = Tree(board)\n",
    "#chess_tree.root\n",
    "for move in chess_tree.root.legal_moves:\n",
    "    parent = chess_tree.root.copy()\n",
    "    parent.push(move)\n",
    "    #print(parent)\n",
    "    #print()\n",
    "    #parent.root.push(move)\n",
    "    chess_tree.addNode(Node(parent))\n",
    "    #chess_tree.root.pop()\n"
   ]
  },
  {
   "cell_type": "code",
   "execution_count": 46,
   "metadata": {},
   "outputs": [
    {
     "name": "stdout",
     "output_type": "stream",
     "text": [
      "[]\n",
      "[]\n",
      "[]\n",
      "[]\n",
      "[]\n",
      "[]\n",
      "[]\n",
      "[]\n",
      "[]\n",
      "[]\n",
      "[]\n",
      "[]\n",
      "[]\n",
      "[]\n",
      "[]\n",
      "[]\n",
      "[]\n",
      "[]\n",
      "[]\n",
      "[]\n"
     ]
    }
   ],
   "source": [
    "for each in chess_tree.children:\n",
    "    #print(each.parent)\n",
    "    #print()\n",
    "    print(each.children)"
   ]
  },
  {
   "cell_type": "code",
   "execution_count": 1,
   "metadata": {},
   "outputs": [
    {
     "name": "stdout",
     "output_type": "stream",
     "text": [
      "Time to execute recursion 0:00:00.184732\n",
      "420\n"
     ]
    }
   ],
   "source": [
    "### Valid Recursion\n",
    "import chess\n",
    "from datetime import datetime\n",
    "\n",
    "\n",
    "class Tree():\n",
    "    def __init__(self,root):\n",
    "        self.root = root\n",
    "        self.children = []\n",
    "\n",
    "    def addNode(self,obj):\n",
    "        self.children.append(obj)\n",
    "\n",
    "\n",
    "class Node():\n",
    "    def __init__(self, parent):\n",
    "        self.parent = parent\n",
    "        self.children = []\n",
    "\n",
    "    def addNode(self,obj):\n",
    "        self.children.append(obj)\n",
    "\n",
    "\n",
    "if __name__ == \"__main__\":\n",
    "    MAX_LEVEL = 2\n",
    "    recursive_counter = 0\n",
    "\n",
    "    board = chess.Board()\n",
    "    chess_tree = Tree(board)\n",
    "\n",
    "    # Sets up the first node\n",
    "    for move in chess_tree.root.legal_moves:\n",
    "        parent = chess_tree.root.copy()\n",
    "        parent.push(move)\n",
    "        chess_tree.addNode(Node(parent))\n",
    "\n",
    "    def recursive_child_maker(node, level):\n",
    "        global recursive_counter\n",
    "\n",
    "        # If you reached MAX_LEVEL, exit\n",
    "        if level == MAX_LEVEL:\n",
    "            return\n",
    "\n",
    "        recursive_counter += 1\n",
    "\n",
    "        for move in node.parent.legal_moves:\n",
    "            parent = node.parent.copy()\n",
    "            parent.push(move)\n",
    "            new_node = Node(parent)\n",
    "            node.addNode(new_node)\n",
    "            ### Add code here to calculate probability\n",
    "            ### Then add to one of 3 arrays: 1. win 2. loss 3. draw\n",
    "            recursive_child_maker(new_node, level+1)\n",
    "\n",
    "\n",
    "    ##### Add first layer\n",
    "    time1 = datetime.now()\n",
    "    for node in chess_tree.children:\n",
    "        recursive_child_maker(node, 0) # Since 0 passed, this will run for 0 and 1 and stop at 2\n",
    "\n",
    "    time2 = datetime.now()\n",
    "    print(\"Time to execute recursion\", time2 - time1)\n",
    "    print(recursive_counter)"
   ]
  },
  {
   "cell_type": "code",
   "execution_count": null,
   "metadata": {},
   "outputs": [],
   "source": []
  }
 ],
 "metadata": {
  "kernelspec": {
   "display_name": "Python 3",
   "language": "python",
   "name": "python3"
  },
  "language_info": {
   "codemirror_mode": {
    "name": "ipython",
    "version": 3
   },
   "file_extension": ".py",
   "mimetype": "text/x-python",
   "name": "python",
   "nbconvert_exporter": "python",
   "pygments_lexer": "ipython3",
   "version": "3.8.5"
  }
 },
 "nbformat": 4,
 "nbformat_minor": 4
}
